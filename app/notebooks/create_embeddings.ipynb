{
 "cells": [
  {
   "cell_type": "code",
   "execution_count": 15,
   "metadata": {},
   "outputs": [],
   "source": [
    "import pandas as pd\n",
    "import numpy as np"
   ]
  },
  {
   "cell_type": "markdown",
   "metadata": {},
   "source": [
    "## Load Data"
   ]
  },
  {
   "cell_type": "code",
   "execution_count": 16,
   "metadata": {},
   "outputs": [
    {
     "data": {
      "text/html": [
       "<div>\n",
       "<style scoped>\n",
       "    .dataframe tbody tr th:only-of-type {\n",
       "        vertical-align: middle;\n",
       "    }\n",
       "\n",
       "    .dataframe tbody tr th {\n",
       "        vertical-align: top;\n",
       "    }\n",
       "\n",
       "    .dataframe thead th {\n",
       "        text-align: right;\n",
       "    }\n",
       "</style>\n",
       "<table border=\"1\" class=\"dataframe\">\n",
       "  <thead>\n",
       "    <tr style=\"text-align: right;\">\n",
       "      <th></th>\n",
       "      <th>product_id</th>\n",
       "      <th>product_name</th>\n",
       "      <th>aisle_id</th>\n",
       "      <th>department_id</th>\n",
       "      <th>aisle</th>\n",
       "      <th>department</th>\n",
       "    </tr>\n",
       "  </thead>\n",
       "  <tbody>\n",
       "    <tr>\n",
       "      <th>0</th>\n",
       "      <td>1</td>\n",
       "      <td>Chocolate Sandwich Cookies</td>\n",
       "      <td>61</td>\n",
       "      <td>19</td>\n",
       "      <td>cookies cakes</td>\n",
       "      <td>snacks</td>\n",
       "    </tr>\n",
       "    <tr>\n",
       "      <th>1</th>\n",
       "      <td>2</td>\n",
       "      <td>All-Seasons Salt</td>\n",
       "      <td>104</td>\n",
       "      <td>13</td>\n",
       "      <td>spices seasonings</td>\n",
       "      <td>pantry</td>\n",
       "    </tr>\n",
       "    <tr>\n",
       "      <th>2</th>\n",
       "      <td>3</td>\n",
       "      <td>Robust Golden Unsweetened Oolong Tea</td>\n",
       "      <td>94</td>\n",
       "      <td>7</td>\n",
       "      <td>tea</td>\n",
       "      <td>beverages</td>\n",
       "    </tr>\n",
       "    <tr>\n",
       "      <th>3</th>\n",
       "      <td>4</td>\n",
       "      <td>Smart Ones Classic Favorites Mini Rigatoni Wit...</td>\n",
       "      <td>38</td>\n",
       "      <td>1</td>\n",
       "      <td>frozen meals</td>\n",
       "      <td>frozen</td>\n",
       "    </tr>\n",
       "    <tr>\n",
       "      <th>4</th>\n",
       "      <td>5</td>\n",
       "      <td>Green Chile Anytime Sauce</td>\n",
       "      <td>5</td>\n",
       "      <td>13</td>\n",
       "      <td>marinades meat preparation</td>\n",
       "      <td>pantry</td>\n",
       "    </tr>\n",
       "  </tbody>\n",
       "</table>\n",
       "</div>"
      ],
      "text/plain": [
       "   product_id                                       product_name  aisle_id  \\\n",
       "0           1                         Chocolate Sandwich Cookies        61   \n",
       "1           2                                   All-Seasons Salt       104   \n",
       "2           3               Robust Golden Unsweetened Oolong Tea        94   \n",
       "3           4  Smart Ones Classic Favorites Mini Rigatoni Wit...        38   \n",
       "4           5                          Green Chile Anytime Sauce         5   \n",
       "\n",
       "   department_id                       aisle department  \n",
       "0             19               cookies cakes     snacks  \n",
       "1             13           spices seasonings     pantry  \n",
       "2              7                         tea  beverages  \n",
       "3              1                frozen meals     frozen  \n",
       "4             13  marinades meat preparation     pantry  "
      ]
     },
     "execution_count": 16,
     "metadata": {},
     "output_type": "execute_result"
    }
   ],
   "source": [
    "product_df = pd.read_csv(\"../data/processed/product_metadata.csv\")\n",
    "product_df.head()"
   ]
  },
  {
   "cell_type": "markdown",
   "metadata": {},
   "source": [
    "## OpenAI Access"
   ]
  },
  {
   "cell_type": "code",
   "execution_count": 17,
   "metadata": {},
   "outputs": [],
   "source": [
    "import os\n",
    "from dotenv import load_dotenv\n",
    "\n",
    "load_dotenv()\n",
    "openai_api_key = os.getenv('OPENAI_API_KEY')"
   ]
  },
  {
   "cell_type": "code",
   "execution_count": 18,
   "metadata": {},
   "outputs": [],
   "source": [
    "from openai import OpenAI\n",
    "client = OpenAI()"
   ]
  },
  {
   "cell_type": "markdown",
   "metadata": {},
   "source": [
    "## Create embeddings and add to ChromaDB"
   ]
  },
  {
   "cell_type": "code",
   "execution_count": 19,
   "metadata": {},
   "outputs": [],
   "source": [
    "import chromadb\n",
    "\n",
    "#Initialize ChromaDB\n",
    "chroma_client = chromadb.PersistentClient(path=\"../data/chroma_storage\")"
   ]
  },
  {
   "cell_type": "code",
   "execution_count": 22,
   "metadata": {},
   "outputs": [
    {
     "data": {
      "text/plain": [
       "[]"
      ]
     },
     "execution_count": 22,
     "metadata": {},
     "output_type": "execute_result"
    }
   ],
   "source": [
    "chroma_client.list_collections()"
   ]
  },
  {
   "cell_type": "code",
   "execution_count": 21,
   "metadata": {},
   "outputs": [],
   "source": [
    "# Delete collection\n",
    "# chroma_client.delete_collection(\"product_embeddings\")"
   ]
  },
  {
   "cell_type": "code",
   "execution_count": 23,
   "metadata": {},
   "outputs": [],
   "source": [
    "collection = chroma_client.create_collection(name=\"product_embeddings\")"
   ]
  },
  {
   "cell_type": "code",
   "execution_count": 10,
   "metadata": {},
   "outputs": [],
   "source": [
    "cc = chroma_client.get_collection(name=\"product_embeddings\")"
   ]
  },
  {
   "cell_type": "code",
   "execution_count": 29,
   "metadata": {},
   "outputs": [],
   "source": [
    "df = product_df.copy()"
   ]
  },
  {
   "cell_type": "code",
   "execution_count": 27,
   "metadata": {},
   "outputs": [],
   "source": [
    "# df = df[(df['product_id'] >=1) & (df['product_id'] <=5000)]"
   ]
  },
  {
   "cell_type": "code",
   "execution_count": 30,
   "metadata": {},
   "outputs": [],
   "source": [
    "df = df.iloc[:5000]"
   ]
  },
  {
   "cell_type": "code",
   "execution_count": 31,
   "metadata": {},
   "outputs": [
    {
     "name": "stdout",
     "output_type": "stream",
     "text": [
      "5000\n",
      "   product_id                product_name  aisle_id  department_id  \\\n",
      "0           1  Chocolate Sandwich Cookies        61             19   \n",
      "\n",
      "           aisle department  \n",
      "0  cookies cakes     snacks  \n",
      "      product_id                            product_name  aisle_id  \\\n",
      "4999        6691  Hard Boiled Eggs Peeled & Ready To Eat        86   \n",
      "\n",
      "      department_id aisle  department  \n",
      "4999             16  eggs  dairy eggs  \n"
     ]
    }
   ],
   "source": [
    "print(df.shape[0])\n",
    "print(df.head(1))\n",
    "print(df.tail(1))"
   ]
  },
  {
   "cell_type": "code",
   "execution_count": 32,
   "metadata": {},
   "outputs": [
    {
     "name": "stdout",
     "output_type": "stream",
     "text": [
      "Batch-1 done!\n",
      "Batch-1 added to chroma!\n",
      "Batch-2 done!\n",
      "Batch-2 added to chroma!\n",
      "Batch-3 done!\n",
      "Batch-3 added to chroma!\n",
      "Batch-4 done!\n",
      "Batch-4 added to chroma!\n",
      "Batch-5 done!\n",
      "Batch-5 added to chroma!\n",
      "Batch-6 done!\n",
      "Batch-6 added to chroma!\n",
      "Batch-7 done!\n",
      "Batch-7 added to chroma!\n",
      "Batch-8 done!\n",
      "Batch-8 added to chroma!\n",
      "Batch-9 done!\n",
      "Batch-9 added to chroma!\n",
      "Batch-10 done!\n",
      "Batch-10 added to chroma!\n",
      "Batch-11 done!\n",
      "Batch-11 added to chroma!\n",
      "Batch-12 done!\n",
      "Batch-12 added to chroma!\n",
      "Batch-13 done!\n",
      "Batch-13 added to chroma!\n",
      "Batch-14 done!\n",
      "Batch-14 added to chroma!\n",
      "Batch-15 done!\n",
      "Batch-15 added to chroma!\n",
      "Batch-16 done!\n",
      "Batch-16 added to chroma!\n",
      "Batch-17 done!\n",
      "Batch-17 added to chroma!\n",
      "Batch-18 done!\n",
      "Batch-18 added to chroma!\n",
      "Batch-19 done!\n",
      "Batch-19 added to chroma!\n",
      "Batch-20 done!\n",
      "Batch-20 added to chroma!\n",
      "Batch-21 done!\n",
      "Batch-21 added to chroma!\n",
      "Batch-22 done!\n",
      "Batch-22 added to chroma!\n",
      "Batch-23 done!\n",
      "Batch-23 added to chroma!\n",
      "Batch-24 done!\n",
      "Batch-24 added to chroma!\n",
      "Batch-25 done!\n",
      "Batch-25 added to chroma!\n",
      "Batch-26 done!\n",
      "Batch-26 added to chroma!\n",
      "Batch-27 done!\n",
      "Batch-27 added to chroma!\n",
      "Batch-28 done!\n",
      "Batch-28 added to chroma!\n",
      "Batch-29 done!\n",
      "Batch-29 added to chroma!\n",
      "Batch-30 done!\n",
      "Batch-30 added to chroma!\n",
      "Batch-31 done!\n",
      "Batch-31 added to chroma!\n",
      "Batch-32 done!\n",
      "Batch-32 added to chroma!\n",
      "Batch-33 done!\n",
      "Batch-33 added to chroma!\n",
      "Batch-34 done!\n",
      "Batch-34 added to chroma!\n",
      "Batch-35 done!\n",
      "Batch-35 added to chroma!\n",
      "Batch-36 done!\n",
      "Batch-36 added to chroma!\n",
      "Batch-37 done!\n",
      "Batch-37 added to chroma!\n",
      "Batch-38 done!\n",
      "Batch-38 added to chroma!\n",
      "Batch-39 done!\n",
      "Batch-39 added to chroma!\n",
      "Batch-40 done!\n",
      "Batch-40 added to chroma!\n",
      "Batch-41 done!\n",
      "Batch-41 added to chroma!\n",
      "Batch-42 done!\n",
      "Batch-42 added to chroma!\n",
      "Batch-43 done!\n",
      "Batch-43 added to chroma!\n",
      "Batch-44 done!\n",
      "Batch-44 added to chroma!\n",
      "Batch-45 done!\n",
      "Batch-45 added to chroma!\n",
      "Batch-46 done!\n",
      "Batch-46 added to chroma!\n",
      "Batch-47 done!\n",
      "Batch-47 added to chroma!\n",
      "Batch-48 done!\n",
      "Batch-48 added to chroma!\n",
      "Batch-49 done!\n",
      "Batch-49 added to chroma!\n",
      "Batch-50 done!\n",
      "Batch-50 added to chroma!\n"
     ]
    }
   ],
   "source": [
    "batch_size = 100\n",
    "num_batches = int(np.ceil(len(df) / batch_size))\n",
    "\n",
    "for i in range(num_batches):\n",
    "    batch = df[i * batch_size: (i + 1) * batch_size]\n",
    "    \n",
    "    embeddings = []\n",
    "    metadatas = []\n",
    "    ids = []\n",
    "    \n",
    "    for index, row in batch.iterrows():\n",
    "        response = client.embeddings.create(input=row['product_name'], model='text-embedding-3-small')\n",
    "        embedding = response.data[0].embedding\n",
    "        \n",
    "        embeddings.append(embedding)\n",
    "        metadatas.append({'product_name': row['product_name']})\n",
    "        ids.append(str(row['product_id']))\n",
    "    \n",
    "    print(f\"Batch-{i+1} done!\")\n",
    "    \n",
    "    # Add batch to ChromaDB\n",
    "    collection.add(\n",
    "        embeddings=embeddings,\n",
    "        metadatas=metadatas,\n",
    "        ids=ids\n",
    "    )\n",
    "\n",
    "    print(f\"Batch-{i+1} added to chroma!\")\n",
    "\n"
   ]
  },
  {
   "cell_type": "code",
   "execution_count": 33,
   "metadata": {},
   "outputs": [
    {
     "data": {
      "text/plain": [
       "5000"
      ]
     },
     "execution_count": 33,
     "metadata": {},
     "output_type": "execute_result"
    }
   ],
   "source": [
    "collection.count()"
   ]
  },
  {
   "cell_type": "markdown",
   "metadata": {},
   "source": [
    "## Similar Product Recommendation"
   ]
  },
  {
   "cell_type": "code",
   "execution_count": 34,
   "metadata": {},
   "outputs": [],
   "source": [
    "def recommend_products(product_name, top_n=3):\n",
    "    # Get embedding for the input description\n",
    "    response = client.embeddings.create(input=product_name, model='text-embedding-3-small')\n",
    "    input_embedding = response.data[0].embedding\n",
    "\n",
    "    # Query Chromadb for similar embeddings\n",
    "    results = collection.query(query_embeddings=input_embedding, n_results=top_n)\n",
    "\n",
    "    # Extract and return recommended products\n",
    "    recommendations = []\n",
    "    metadatas = results['metadatas']\n",
    "\n",
    "    product_names = [item['product_name'] for sublist in metadatas for item in sublist]\n",
    "\n",
    "    for product_name in product_names:\n",
    "        recommendations.append({'product_name': product_name})\n",
    "\n",
    "    return recommendations\n"
   ]
  },
  {
   "cell_type": "code",
   "execution_count": 35,
   "metadata": {},
   "outputs": [
    {
     "name": "stdout",
     "output_type": "stream",
     "text": [
      "[{'product_name': 'Diet Green Tea'}, {'product_name': 'Green Tea Pomegranate'}, {'product_name': 'Unsweetened Green Tea'}]\n"
     ]
    }
   ],
   "source": [
    "recommendations = recommend_products('Green Tea')\n",
    "print(recommendations)\n"
   ]
  },
  {
   "cell_type": "code",
   "execution_count": 34,
   "metadata": {},
   "outputs": [
    {
     "name": "stdout",
     "output_type": "stream",
     "text": [
      "{'ids': [['36207', '9844', '5459']], 'distances': [[0.9575251340866089, 1.0038809776306152, 1.0046604871749878]], 'metadatas': [[{'product_name': 'Mint & Honey Green Tea'}, {'product_name': 'Raspberry Iced Tea'}, {'product_name': 'Chamomile Tea'}]], 'embeddings': None, 'documents': [[None, None, None]], 'uris': None, 'data': None, 'included': ['metadatas', 'documents', 'distances']}\n",
      "<class 'dict'>\n"
     ]
    }
   ],
   "source": [
    "response = client.embeddings.create(input='milk tea', model='text-embedding-3-small')\n",
    "input_embedding = response.data[0].embedding\n",
    "results = collection.query(query_embeddings=input_embedding, n_results=3)\n",
    "print(results)\n",
    "print(type(results))"
   ]
  },
  {
   "cell_type": "code",
   "execution_count": 43,
   "metadata": {},
   "outputs": [
    {
     "name": "stdout",
     "output_type": "stream",
     "text": [
      "['Mint & Honey Green Tea', 'Raspberry Iced Tea', 'Chamomile Tea']\n",
      "[{'product_name': 'Mint & Honey Green Tea'}, {'product_name': 'Raspberry Iced Tea'}, {'product_name': 'Chamomile Tea'}]\n"
     ]
    }
   ],
   "source": [
    "recommendations = []\n",
    "metadatas = results['metadatas']\n",
    "\n",
    "product_names = [item['product_name'] for sublist in metadatas for item in sublist]\n",
    "\n",
    "for product_name in product_names:\n",
    "    recommendations.append({'product_name': product_name})\n",
    "\n",
    "print(recommendations)"
   ]
  },
  {
   "cell_type": "markdown",
   "metadata": {},
   "source": [
    "## Basket Recommendation"
   ]
  },
  {
   "cell_type": "code",
   "execution_count": 64,
   "metadata": {},
   "outputs": [],
   "source": [
    "system_prompt = \"You are an AI assistant functioning \\\n",
    "as a recommendation system for ecommerce website. \\\n",
    "Be specific and limit your answers to the requested format. \\\n",
    "Keep your answers short and concise.\""
   ]
  },
  {
   "cell_type": "code",
   "execution_count": 68,
   "metadata": {},
   "outputs": [],
   "source": [
    "def get_user_prompt(ordered_list_of_items):\n",
    "\n",
    "    prompt=None\n",
    "    if len(ordered_list_of_items) > 0:\n",
    "        items = ', '.join(ordered_list_of_items)\n",
    "        prompt = f\"A user bought the following items: {items}. What next 3 items would he/she be likely to purchase next?\"\n",
    "        prompt += \"Express your response as a JSON object with a key of 'next_items and a value representing your array of recommended items.\"\n",
    "    \n",
    "    return prompt\n"
   ]
  },
  {
   "cell_type": "code",
   "execution_count": 72,
   "metadata": {},
   "outputs": [
    {
     "name": "stdout",
     "output_type": "stream",
     "text": [
      "A user bought the following items: bread, coffee. What next 3 items would he/she be likely to purchase next?Express your response as a JSON object with a key of 'next_items and a value representing your array of recommended items.\n"
     ]
    }
   ],
   "source": [
    "# Retrieve user prompt\n",
    "user_prompt = get_user_prompt(\n",
    "    ['bread', 'coffee']\n",
    ")\n",
    "print(user_prompt)"
   ]
  },
  {
   "cell_type": "code",
   "execution_count": 73,
   "metadata": {},
   "outputs": [
    {
     "name": "stdout",
     "output_type": "stream",
     "text": [
      "```json\n",
      "{\n",
      "  \"next_items\": [\"butter\", \"jam\", \"milk\"]\n",
      "}\n",
      "```\n"
     ]
    }
   ],
   "source": [
    "# Test Prompt\n",
    "response = client.chat.completions.create(\n",
    "    model=\"gpt-4o-mini\",\n",
    "    messages=[\n",
    "       {'role': 'system', 'content': system_prompt},\n",
    "       {'role': 'user', 'content': user_prompt} \n",
    "    ],\n",
    ")\n",
    "\n",
    "message = response.choices[0].message.content\n",
    "print(message)"
   ]
  },
  {
   "cell_type": "code",
   "execution_count": 74,
   "metadata": {},
   "outputs": [],
   "source": [
    "next_items = ['match green tea', 'milk tea']"
   ]
  },
  {
   "cell_type": "code",
   "execution_count": 75,
   "metadata": {},
   "outputs": [],
   "source": [
    "def recommend_products(next_items, top_n=5):\n",
    "    # Get embedding for the input description\n",
    "    response = client.embeddings.create(input=next_items, model='text-embedding-3-small')\n",
    "    input_embedding = response.data[0].embedding\n",
    "\n",
    "    # Query Chromadb for similar embeddings\n",
    "    results = collection.query(query_embeddings=input_embedding, n_results=top_n)\n",
    "\n",
    "    # Extract and return recommended products\n",
    "    recommendations = []\n",
    "    metadatas = results['metadatas']\n",
    "\n",
    "    product_names = [item['product_name'] for sublist in metadatas for item in sublist]\n",
    "\n",
    "    for product_name in product_names:\n",
    "        recommendations.append({'product_name': product_name})\n",
    "\n",
    "    return recommendations\n"
   ]
  },
  {
   "cell_type": "code",
   "execution_count": 76,
   "metadata": {},
   "outputs": [
    {
     "name": "stdout",
     "output_type": "stream",
     "text": [
      "[{'product_name': 'Classic Green Tea'}, {'product_name': 'Organic Pure Green Tea'}, {'product_name': 'China Green Tips Green Tea'}, {'product_name': 'Green Tea with Mint'}, {'product_name': 'Mint & Honey Green Tea'}]\n"
     ]
    }
   ],
   "source": [
    "next_items = ['match green tea', 'milk tea']\n",
    "recommendations = recommend_products(next_items)\n",
    "print(recommendations)"
   ]
  },
  {
   "cell_type": "code",
   "execution_count": null,
   "metadata": {},
   "outputs": [],
   "source": []
  }
 ],
 "metadata": {
  "kernelspec": {
   "display_name": "llm-rec",
   "language": "python",
   "name": "python3"
  },
  "language_info": {
   "codemirror_mode": {
    "name": "ipython",
    "version": 3
   },
   "file_extension": ".py",
   "mimetype": "text/x-python",
   "name": "python",
   "nbconvert_exporter": "python",
   "pygments_lexer": "ipython3",
   "version": "3.10.12"
  }
 },
 "nbformat": 4,
 "nbformat_minor": 2
}
